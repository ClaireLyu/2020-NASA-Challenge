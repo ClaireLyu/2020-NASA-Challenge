{
 "cells": [
  {
   "cell_type": "code",
   "execution_count": 13,
   "metadata": {},
   "outputs": [],
   "source": [
    "import matplotlib.pyplot as plt\n",
    "import numpy as np\n",
    "from base64 import b64encode\n",
    "import pandas as pd\n",
    "from ipyleaflet import *\n",
    "import ipywidgets as widgets\n",
    "from ipywidgets import interact, interact_manual"
   ]
  },
  {
   "cell_type": "code",
   "execution_count": 14,
   "metadata": {},
   "outputs": [],
   "source": [
    "%reload_ext autoreload\n",
    "%autoreload 2\n",
    "%matplotlib inline"
   ]
  },
  {
   "cell_type": "code",
   "execution_count": 15,
   "metadata": {},
   "outputs": [],
   "source": [
    "# !jupyter nbextension enable --py widgetsnbextension"
   ]
  },
  {
   "cell_type": "code",
   "execution_count": 16,
   "metadata": {},
   "outputs": [],
   "source": [
    "#jupyter nbextension enable --py --sys-prefix ipyleaflet"
   ]
  },
  {
   "cell_type": "code",
   "execution_count": 17,
   "metadata": {},
   "outputs": [],
   "source": [
    "import os\n",
    "if not os.path.exists('wind-global.nc'):\n",
    "    url = 'https://github.com/benbovy/xvelmap/raw/master/notebooks/wind-global.nc'\n",
    "    import requests\n",
    "    r = requests.get(url)\n",
    "    wind_data = r.content\n",
    "    with open('wind-global.nc', 'wb') as f:\n",
    "        f.write(wind_data)\n",
    "\n",
    "import xarray as xr\n",
    "ds = xr.open_dataset('wind-global.nc')\n",
    "\n",
    "#pip install netcdf4\n",
    "\n",
    "from ipyleaflet.velocity import Velocity\n",
    "display_options = {\n",
    "    'velocityType': 'Global Wind',\n",
    "    'displayPosition': 'bottomleft',\n",
    "    'displayEmptyString': 'No wind data'\n",
    "}\n",
    "wind = Velocity(\n",
    "    data=ds, \n",
    "    zonal_speed='u_wind', meridional_speed='v_wind', \n",
    "    latitude_dimension='lat', longitude_dimension='lon', \n",
    "    velocity_scale=0.01, max_velocity=20, \n",
    "    display_options=display_options\n",
    ")"
   ]
  },
  {
   "cell_type": "code",
   "execution_count": 18,
   "metadata": {},
   "outputs": [],
   "source": [
    "import requests\n",
    "from datetime import datetime\n",
    "front=\"https://www.n2yo.com/rest/v1/satellite/positions/\"\n",
    "end=\"/2/&apiKey=3J8GBR-WYHM3S-JHNLDD-4KER\"\n",
    "ID=\"25544/\"  # satellite ID\n",
    "# observer position information\n",
    "obslatitude=\"41.702/\"\n",
    "obslongitude=\"-76.014/\"\n",
    "obsaltitude=\"0\"\n",
    "url=front+ID+obslatitude+obslongitude+obsaltitude+end\n",
    "# url=\"https://www.n2yo.com/rest/v1/satellite/positions/25544/41.702/-76.014/0/2/&apiKey=3J8GBR-WYHM3S-JHNLDD-4KER\"\n",
    "r=requests.get(url)\n",
    "\n",
    "raw_json=r.json()\n",
    "timestamp = raw_json[\"positions\"][0][\"timestamp\"]\n",
    "ts = int(timestamp)\n",
    "time=datetime.utcfromtimestamp(ts).strftime('%Y-%m-%d %H:%M:%S')\n",
    "\n",
    "satname=raw_json[\"info\"][\"satname\"]\n",
    "satlatitude=raw_json[\"positions\"][0][\"satlatitude\"]\n",
    "satlongitude=raw_json[\"positions\"][0][\"satlongitude\"]\n",
    "sataltitude=raw_json[\"positions\"][0][\"sataltitude\"]\n",
    "\n",
    "# print(\"time: \"+time)\n",
    "# print(\"satname: \"+satname)\n",
    "# print(\"latitude: \"+str(satlatitude))\n",
    "# print(\"longitude: \"+str(satlongitude))\n",
    "# print(\"altitude: \"+str(sataltitude))"
   ]
  },
  {
   "cell_type": "code",
   "execution_count": 19,
   "metadata": {},
   "outputs": [],
   "source": [
    "instance_id = '8090226b-e900-4993-bfa2-65f1d959b140'\n",
    "\n",
    "sh_wms_url = 'https://services.sentinel-hub.com/ogc/wms/' + instance_id + '?showlogo=0&time=2020-10-02-12-00-00/2020-10-02-12-00-00'"
   ]
  },
  {
   "cell_type": "markdown",
   "metadata": {},
   "source": [
    "# Orbital Eye\n",
    "\n",
    "You can view the earth with an \"eye\" on satellites and see the wind direction and velocity on earth in the interative map below. You can use the dropdown menu to choose a satellite. If you see a black background, it is not an error! It means that the location of current satellite is at night. In addition, the moving objects are not meteors but represent the movement of winds."
   ]
  },
  {
   "cell_type": "code",
   "execution_count": 24,
   "metadata": {},
   "outputs": [
    {
     "data": {
      "application/vnd.jupyter.widget-view+json": {
       "model_id": "d3cfb5fa293846c89f5010342bfa42c9",
       "version_major": 2,
       "version_minor": 0
      },
      "text/plain": [
       "interactive(children=(Dropdown(description='satellite', options=('SENTINEL_1', 'SENTINEL_2A', 'SENTINEL_2B', '…"
      ]
     },
     "metadata": {},
     "output_type": "display_data"
    }
   ],
   "source": [
    "m = Map(center=(20, 10), zoom=10)\n",
    "#m.add_layer(WMSLayer(url=sh_wms_url, layers=\"TRUE_COLORSENTINEL-2-L1C\", tile_size=512))\n",
    "m.add_layer(wind)\n",
    "\n",
    "#@interact\n",
    "#def location(latitude='50', longitude='15'):\n",
    "    \n",
    "def info_select(satellite):\n",
    "\n",
    "    front=\"https://www.n2yo.com/rest/v1/satellite/positions/\"\n",
    "    end=\"/4/&apiKey=3J8GBR-WYHM3S-JHNLDD-4KER\"\n",
    "    if satellite == 'SENTINEL_1':  \n",
    "        ID=\"39634/\"  # satellite ID\n",
    "    elif satellite == 'SENTINEL_2A':  \n",
    "        ID=\"40697/\"  # satellite ID\n",
    "    elif satellite == 'SENTINEL_2B':  \n",
    "        ID=\"42063/\"  # satellite ID\n",
    "    elif satellite == 'SENTINEL_3':  \n",
    "        ID=\"41335/\"  # satellite ID\n",
    "    elif satellite == 'SENTINEL_5P':  \n",
    "        ID=\"42969/\"  # satellite ID\n",
    "    elif satellite == 'LANDSAT_8':  \n",
    "        ID=\"39084/\"  # satellite ID\n",
    "    url=front+ID+obslatitude+obslongitude+obsaltitude+end\n",
    "    # url=\"https://www.n2yo.com/rest/v1/satellite/positions/25544/41.702/-76.014/0/2/&apiKey=3J8GBR-WYHM3S-JHNLDD-4KER\"\n",
    "    r=requests.get(url)\n",
    "\n",
    "    raw_json=r.json()\n",
    "    timestamp = raw_json[\"positions\"][0][\"timestamp\"]\n",
    "    ts = int(timestamp)\n",
    "    time=datetime.utcfromtimestamp(ts).strftime('%Y-%m-%d %H:%M:%S')\n",
    "\n",
    "    satname=raw_json[\"info\"][\"satname\"]\n",
    "    satlatitude=raw_json[\"positions\"][0][\"satlatitude\"]\n",
    "    satlongitude=raw_json[\"positions\"][0][\"satlongitude\"]\n",
    "    #sataltitude=raw_json[\"positions\"][0][\"sataltitude\"]\n",
    "    \n",
    "    layer = satellite\n",
    "    #date = pd.Timestamp(date)\n",
    "    sh_wms_url = 'https://services.sentinel-hub.com/ogc/wms/' + instance_id + '?showlogo=0&time={}/{}'.format(str(time)[:-9],str(time)[:-9])\n",
    "    m.add_layer(WMSLayer(url=sh_wms_url, layers='{}'.format(layer), tile_size=512))\n",
    "    #m.add_layer(Marker(location=(int(latitude), int(longitude))))\n",
    "    m.center=(satlatitude,satlongitude)\n",
    "    print(\"time: \"+time)\n",
    "    print(\"latitude: \"+str(satlatitude))\n",
    "    print(\"longitude: \"+str(satlongitude))\n",
    "\n",
    "    return m\n",
    "\n",
    "_ = interact(info_select, satellite = widgets.Dropdown(options=['SENTINEL_1','SENTINEL_2A', 'SENTINEL_2B','SENTINEL_3','SENTINEL_5P','LANDSAT_8']))\n",
    "            # layer = widgets.Dropdown(options=['FALSE_COLOR', 'TRUE_COLOR']),\n",
    "            # date = widgets.DatePicker(value=pd.to_datetime('2020-10-01'))\n"
   ]
  },
  {
   "cell_type": "code",
   "execution_count": null,
   "metadata": {},
   "outputs": [],
   "source": []
  }
 ],
 "metadata": {
  "kernelspec": {
   "display_name": "Python 3",
   "language": "python",
   "name": "python3"
  },
  "language_info": {
   "codemirror_mode": {
    "name": "ipython",
    "version": 3
   },
   "file_extension": ".py",
   "mimetype": "text/x-python",
   "name": "python",
   "nbconvert_exporter": "python",
   "pygments_lexer": "ipython3",
   "version": "3.7.6"
  }
 },
 "nbformat": 4,
 "nbformat_minor": 4
}
